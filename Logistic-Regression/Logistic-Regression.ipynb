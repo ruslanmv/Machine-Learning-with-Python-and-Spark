{
 "cells": [
  {
   "cell_type": "markdown",
   "metadata": {},
   "source": [
    "# Logistic Regression \n"
   ]
  },
  {
   "cell_type": "markdown",
   "metadata": {
    "collapsed": true
   },
   "source": [
    "### Customer churn with Logistic Regression\n",
    "A marketing agency  is concerned about the number of customers stop buying their service. They need to understand who is leaving. Imagine that you are an analyst at this company and you have to find out the customers most at risk to churn an account manager.\n",
    "\n",
    "\n",
    "\n",
    "    "
   ]
  },
  {
   "cell_type": "markdown",
   "metadata": {},
   "source": [
    "<h4>Table of contents</h4>\n",
    "<div class=\"alert alert-block alert-info\" style=\"margin-top: 20px\">\n",
    "    <ol>\n",
    "        <li><a href=\"#ref1\">Logistic Regression with Python</a></li>\n",
    "        <li><a href=\"#ref2\">Logistic Regression with Pyspark</a></li>\n",
    "    </ol>\n",
    "</div>\n",
    "<br>\n"
   ]
  },
  {
   "cell_type": "markdown",
   "metadata": {},
   "source": [
    "<a id=\"ref1\"></a>\n",
    "### Logistic Regression with Python"
   ]
  },
  {
   "cell_type": "markdown",
   "metadata": {},
   "source": [
    "Lets first import required libraries:"
   ]
  },
  {
   "cell_type": "code",
   "execution_count": 3,
   "metadata": {},
   "outputs": [],
   "source": [
    "import pandas as pd\n",
    "import pylab as pl\n",
    "import numpy as np\n",
    "import scipy.optimize as opt\n",
    "from sklearn import preprocessing\n",
    "%matplotlib inline \n",
    "import matplotlib.pyplot as plt"
   ]
  },
  {
   "cell_type": "markdown",
   "metadata": {},
   "source": [
    "<h3 id=\"understanding_data\">Understanding the Data</h3>"
   ]
  },
  {
   "cell_type": "code",
   "execution_count": 9,
   "metadata": {},
   "outputs": [
    {
     "data": {
      "text/html": [
       "<div>\n",
       "<style scoped>\n",
       "    .dataframe tbody tr th:only-of-type {\n",
       "        vertical-align: middle;\n",
       "    }\n",
       "\n",
       "    .dataframe tbody tr th {\n",
       "        vertical-align: top;\n",
       "    }\n",
       "\n",
       "    .dataframe thead th {\n",
       "        text-align: right;\n",
       "    }\n",
       "</style>\n",
       "<table border=\"1\" class=\"dataframe\">\n",
       "  <thead>\n",
       "    <tr style=\"text-align: right;\">\n",
       "      <th></th>\n",
       "      <th>Names</th>\n",
       "      <th>Age</th>\n",
       "      <th>Total_Purchase</th>\n",
       "      <th>Account_Manager</th>\n",
       "      <th>Years</th>\n",
       "      <th>Num_Sites</th>\n",
       "      <th>Onboard_date</th>\n",
       "      <th>Location</th>\n",
       "      <th>Company</th>\n",
       "      <th>Churn</th>\n",
       "    </tr>\n",
       "  </thead>\n",
       "  <tbody>\n",
       "    <tr>\n",
       "      <th>0</th>\n",
       "      <td>Cameron Williams</td>\n",
       "      <td>42.0</td>\n",
       "      <td>11066.8</td>\n",
       "      <td>0</td>\n",
       "      <td>7.22</td>\n",
       "      <td>8.0</td>\n",
       "      <td>2013-08-30 07:00:40</td>\n",
       "      <td>10265 Elizabeth Mission Barkerburgh, AK 89518</td>\n",
       "      <td>Harvey LLC</td>\n",
       "      <td>1</td>\n",
       "    </tr>\n",
       "  </tbody>\n",
       "</table>\n",
       "</div>"
      ],
      "text/plain": [
       "              Names   Age  Total_Purchase  Account_Manager  Years  Num_Sites  \\\n",
       "0  Cameron Williams  42.0         11066.8                0   7.22        8.0   \n",
       "\n",
       "          Onboard_date                                       Location  \\\n",
       "0  2013-08-30 07:00:40  10265 Elizabeth Mission Barkerburgh, AK 89518   \n",
       "\n",
       "      Company  Churn  \n",
       "0  Harvey LLC      1  "
      ]
     },
     "execution_count": 9,
     "metadata": {},
     "output_type": "execute_result"
    }
   ],
   "source": [
    "churn_df = pd.read_csv(\"customer_churn.csv\")\n",
    "churn_df.head(1)"
   ]
  },
  {
   "cell_type": "markdown",
   "metadata": {},
   "source": [
    "The data is saved as customer_churn.csv. Here are the fields and their definitions:\n",
    "\n",
    "    Name : Name of the latest contact at Company\n",
    "    Age: Customer Age\n",
    "    Total_Purchase: Total Ads Purchased\n",
    "    Account_Manager: Binary 0=No manager, 1= Account manager assigned\n",
    "    Years: Totaly Years as a customer\n",
    "    Num_sites: Number of websites that use the service.\n",
    "    Onboard_date: Date that the name of the latest contact was onboarded\n",
    "    Location: Client HQ Address\n",
    "    Company: Name of Client Company"
   ]
  },
  {
   "cell_type": "markdown",
   "metadata": {},
   "source": [
    "Lets select some features for the modeling. Also we change the target data type to be integer, as it is a requirement  by the skitlearn algorithm:"
   ]
  },
  {
   "cell_type": "code",
   "execution_count": 8,
   "metadata": {},
   "outputs": [
    {
     "data": {
      "text/plain": [
       "Index(['Names', 'Age', 'Total_Purchase', 'Account_Manager', 'Years',\n",
       "       'Num_Sites', 'Onboard_date', 'Location', 'Company', 'Churn'],\n",
       "      dtype='object')"
      ]
     },
     "execution_count": 8,
     "metadata": {},
     "output_type": "execute_result"
    }
   ],
   "source": [
    "churn_df.columns"
   ]
  },
  {
   "cell_type": "code",
   "execution_count": 14,
   "metadata": {},
   "outputs": [],
   "source": [
    "inputCols=['Age',\n",
    " 'Total_Purchase',\n",
    " 'Account_Manager',\n",
    " 'Years',\n",
    " 'Num_Sites','Churn']"
   ]
  },
  {
   "cell_type": "code",
   "execution_count": 15,
   "metadata": {},
   "outputs": [],
   "source": [
    "churn_df = churn_df[inputCols]"
   ]
  },
  {
   "cell_type": "code",
   "execution_count": 16,
   "metadata": {},
   "outputs": [
    {
     "name": "stderr",
     "output_type": "stream",
     "text": [
      "C:\\Anaconda3\\envs\\pyspark\\lib\\site-packages\\ipykernel_launcher.py:1: SettingWithCopyWarning: \n",
      "A value is trying to be set on a copy of a slice from a DataFrame.\n",
      "Try using .loc[row_indexer,col_indexer] = value instead\n",
      "\n",
      "See the caveats in the documentation: https://pandas.pydata.org/pandas-docs/stable/user_guide/indexing.html#returning-a-view-versus-a-copy\n",
      "  \"\"\"Entry point for launching an IPython kernel.\n"
     ]
    },
    {
     "data": {
      "text/html": [
       "<div>\n",
       "<style scoped>\n",
       "    .dataframe tbody tr th:only-of-type {\n",
       "        vertical-align: middle;\n",
       "    }\n",
       "\n",
       "    .dataframe tbody tr th {\n",
       "        vertical-align: top;\n",
       "    }\n",
       "\n",
       "    .dataframe thead th {\n",
       "        text-align: right;\n",
       "    }\n",
       "</style>\n",
       "<table border=\"1\" class=\"dataframe\">\n",
       "  <thead>\n",
       "    <tr style=\"text-align: right;\">\n",
       "      <th></th>\n",
       "      <th>Age</th>\n",
       "      <th>Total_Purchase</th>\n",
       "      <th>Account_Manager</th>\n",
       "      <th>Years</th>\n",
       "      <th>Num_Sites</th>\n",
       "      <th>Churn</th>\n",
       "    </tr>\n",
       "  </thead>\n",
       "  <tbody>\n",
       "    <tr>\n",
       "      <th>0</th>\n",
       "      <td>42.0</td>\n",
       "      <td>11066.80</td>\n",
       "      <td>0</td>\n",
       "      <td>7.22</td>\n",
       "      <td>8.0</td>\n",
       "      <td>1</td>\n",
       "    </tr>\n",
       "    <tr>\n",
       "      <th>1</th>\n",
       "      <td>41.0</td>\n",
       "      <td>11916.22</td>\n",
       "      <td>0</td>\n",
       "      <td>6.50</td>\n",
       "      <td>11.0</td>\n",
       "      <td>1</td>\n",
       "    </tr>\n",
       "    <tr>\n",
       "      <th>2</th>\n",
       "      <td>38.0</td>\n",
       "      <td>12884.75</td>\n",
       "      <td>0</td>\n",
       "      <td>6.67</td>\n",
       "      <td>12.0</td>\n",
       "      <td>1</td>\n",
       "    </tr>\n",
       "    <tr>\n",
       "      <th>3</th>\n",
       "      <td>42.0</td>\n",
       "      <td>8010.76</td>\n",
       "      <td>0</td>\n",
       "      <td>6.71</td>\n",
       "      <td>10.0</td>\n",
       "      <td>1</td>\n",
       "    </tr>\n",
       "    <tr>\n",
       "      <th>4</th>\n",
       "      <td>37.0</td>\n",
       "      <td>9191.58</td>\n",
       "      <td>0</td>\n",
       "      <td>5.56</td>\n",
       "      <td>9.0</td>\n",
       "      <td>1</td>\n",
       "    </tr>\n",
       "  </tbody>\n",
       "</table>\n",
       "</div>"
      ],
      "text/plain": [
       "    Age  Total_Purchase  Account_Manager  Years  Num_Sites  Churn\n",
       "0  42.0        11066.80                0   7.22        8.0      1\n",
       "1  41.0        11916.22                0   6.50       11.0      1\n",
       "2  38.0        12884.75                0   6.67       12.0      1\n",
       "3  42.0         8010.76                0   6.71       10.0      1\n",
       "4  37.0         9191.58                0   5.56        9.0      1"
      ]
     },
     "execution_count": 16,
     "metadata": {},
     "output_type": "execute_result"
    }
   ],
   "source": [
    "churn_df['Churn'] = churn_df['Churn'].astype('int')\n",
    "churn_df.head()"
   ]
  },
  {
   "cell_type": "markdown",
   "metadata": {},
   "source": [
    "Lets define X, and y for our dataset:"
   ]
  },
  {
   "cell_type": "code",
   "execution_count": 17,
   "metadata": {},
   "outputs": [
    {
     "data": {
      "text/plain": [
       "array([[4.200000e+01, 1.106680e+04, 0.000000e+00, 7.220000e+00,\n",
       "        8.000000e+00],\n",
       "       [4.100000e+01, 1.191622e+04, 0.000000e+00, 6.500000e+00,\n",
       "        1.100000e+01],\n",
       "       [3.800000e+01, 1.288475e+04, 0.000000e+00, 6.670000e+00,\n",
       "        1.200000e+01],\n",
       "       [4.200000e+01, 8.010760e+03, 0.000000e+00, 6.710000e+00,\n",
       "        1.000000e+01],\n",
       "       [3.700000e+01, 9.191580e+03, 0.000000e+00, 5.560000e+00,\n",
       "        9.000000e+00]])"
      ]
     },
     "execution_count": 17,
     "metadata": {},
     "output_type": "execute_result"
    }
   ],
   "source": [
    "X = np.asarray(churn_df[['Age',\n",
    " 'Total_Purchase',\n",
    " 'Account_Manager',\n",
    " 'Years',\n",
    " 'Num_Sites']])\n",
    "X[0:5]"
   ]
  },
  {
   "cell_type": "code",
   "execution_count": 18,
   "metadata": {},
   "outputs": [
    {
     "data": {
      "text/plain": [
       "array([1, 1, 1, 1, 1])"
      ]
     },
     "execution_count": 18,
     "metadata": {},
     "output_type": "execute_result"
    }
   ],
   "source": [
    "y = np.asarray(churn_df['Churn'])\n",
    "y [0:5]"
   ]
  },
  {
   "cell_type": "markdown",
   "metadata": {},
   "source": [
    "Also, we normalize the dataset:"
   ]
  },
  {
   "cell_type": "code",
   "execution_count": 19,
   "metadata": {},
   "outputs": [
    {
     "data": {
      "text/plain": [
       "array([[ 0.0299361 ,  0.41705373, -0.96290958,  1.52844634, -0.33323478],\n",
       "       [-0.13335172,  0.76990459, -0.96290958,  0.96318219,  1.36758544],\n",
       "       [-0.6232152 ,  1.172234  , -0.96290958,  1.09664734,  1.93452551],\n",
       "       [ 0.0299361 , -0.85243173, -0.96290958,  1.1280509 ,  0.80064537],\n",
       "       [-0.78650303, -0.36191661, -0.96290958,  0.22519844,  0.2337053 ]])"
      ]
     },
     "execution_count": 19,
     "metadata": {},
     "output_type": "execute_result"
    }
   ],
   "source": [
    "from sklearn import preprocessing\n",
    "X = preprocessing.StandardScaler().fit(X).transform(X)\n",
    "X[0:5]"
   ]
  },
  {
   "cell_type": "code",
   "execution_count": null,
   "metadata": {},
   "outputs": [],
   "source": [
    "## Train/Test dataset"
   ]
  },
  {
   "cell_type": "markdown",
   "metadata": {},
   "source": [
    "We split our dataset into train and test set:"
   ]
  },
  {
   "cell_type": "code",
   "execution_count": 21,
   "metadata": {},
   "outputs": [
    {
     "name": "stdout",
     "output_type": "stream",
     "text": [
      "Train set: (720, 5) (720,)\n",
      "Test set: (180, 5) (180,)\n"
     ]
    }
   ],
   "source": [
    "from sklearn.model_selection import train_test_split\n",
    "X_train, X_test, y_train, y_test = train_test_split( X, y, test_size=0.2, random_state=4)\n",
    "print ('Train set:', X_train.shape,  y_train.shape)\n",
    "print ('Test set:', X_test.shape,  y_test.shape)"
   ]
  },
  {
   "cell_type": "markdown",
   "metadata": {},
   "source": [
    "Lets build our model using __LogisticRegression__ from Scikit-learn package. The version of Logistic Regression in Scikit-learn, support regularization. Regularization is a technique used to solve the overfitting problem in machine learning models."
   ]
  },
  {
   "cell_type": "code",
   "execution_count": 22,
   "metadata": {},
   "outputs": [
    {
     "data": {
      "text/plain": [
       "LogisticRegression(C=0.01, solver='liblinear')"
      ]
     },
     "execution_count": 22,
     "metadata": {},
     "output_type": "execute_result"
    }
   ],
   "source": [
    "from sklearn.linear_model import LogisticRegression\n",
    "from sklearn.metrics import confusion_matrix\n",
    "LR = LogisticRegression(C=0.01, solver='liblinear').fit(X_train,y_train)\n",
    "LR"
   ]
  },
  {
   "cell_type": "markdown",
   "metadata": {},
   "source": [
    "Now we can predict using our test set:"
   ]
  },
  {
   "cell_type": "code",
   "execution_count": 23,
   "metadata": {},
   "outputs": [
    {
     "data": {
      "text/plain": [
       "array([0, 0, 0, 0, 0, 0, 0, 0, 0, 0, 0, 0, 1, 0, 0, 0, 0, 1, 0, 0, 0, 0,\n",
       "       0, 0, 0, 0, 0, 0, 0, 0, 0, 0, 0, 0, 1, 0, 0, 0, 0, 0, 0, 0, 0, 0,\n",
       "       0, 0, 0, 0, 0, 0, 0, 0, 1, 0, 0, 1, 0, 0, 0, 0, 0, 0, 0, 0, 0, 0,\n",
       "       1, 0, 0, 0, 0, 0, 0, 0, 0, 0, 0, 0, 0, 0, 0, 1, 0, 0, 0, 0, 0, 1,\n",
       "       0, 0, 0, 0, 0, 0, 0, 0, 0, 0, 0, 0, 0, 0, 0, 0, 0, 0, 0, 0, 0, 0,\n",
       "       0, 0, 0, 0, 0, 0, 0, 1, 0, 0, 0, 0, 0, 0, 0, 1, 0, 0, 0, 1, 1, 0,\n",
       "       0, 0, 1, 0, 0, 1, 0, 0, 0, 0, 0, 0, 0, 0, 0, 0, 0, 0, 0, 0, 0, 0,\n",
       "       0, 1, 0, 0, 0, 0, 1, 0, 1, 0, 0, 0, 0, 0, 0, 1, 0, 0, 1, 1, 0, 0,\n",
       "       0, 0, 0, 0])"
      ]
     },
     "execution_count": 23,
     "metadata": {},
     "output_type": "execute_result"
    }
   ],
   "source": [
    "yhat = LR.predict(X_test)\n",
    "yhat"
   ]
  },
  {
   "cell_type": "markdown",
   "metadata": {},
   "source": [
    "__predict_proba__  returns estimates for all classes, ordered by the label of classes. So, the first column is the probability of class 1, P(Y=1|X), and second column is probability of class 0, P(Y=0|X):"
   ]
  },
  {
   "cell_type": "code",
   "execution_count": 24,
   "metadata": {},
   "outputs": [
    {
     "data": {
      "text/plain": [
       "array([[0.55115319, 0.44884681],\n",
       "       [0.50775355, 0.49224645],\n",
       "       [0.78905855, 0.21094145],\n",
       "       [0.82586384, 0.17413616],\n",
       "       [0.75824089, 0.24175911],\n",
       "       [0.75057247, 0.24942753],\n",
       "       [0.77136927, 0.22863073],\n",
       "       [0.82929872, 0.17070128],\n",
       "       [0.69618372, 0.30381628],\n",
       "       [0.85843925, 0.14156075],\n",
       "       [0.7115565 , 0.2884435 ],\n",
       "       [0.84799908, 0.15200092],\n",
       "       [0.43464548, 0.56535452],\n",
       "       [0.79007774, 0.20992226],\n",
       "       [0.56321142, 0.43678858],\n",
       "       [0.87795661, 0.12204339],\n",
       "       [0.78809214, 0.21190786],\n",
       "       [0.44728951, 0.55271049],\n",
       "       [0.67567028, 0.32432972],\n",
       "       [0.77654205, 0.22345795],\n",
       "       [0.54008405, 0.45991595],\n",
       "       [0.82353426, 0.17646574],\n",
       "       [0.89258452, 0.10741548],\n",
       "       [0.61936631, 0.38063369],\n",
       "       [0.66148835, 0.33851165],\n",
       "       [0.79621017, 0.20378983],\n",
       "       [0.82950855, 0.17049145],\n",
       "       [0.80546686, 0.19453314],\n",
       "       [0.81026516, 0.18973484],\n",
       "       [0.78321259, 0.21678741],\n",
       "       [0.51444245, 0.48555755],\n",
       "       [0.66593741, 0.33406259],\n",
       "       [0.65339164, 0.34660836],\n",
       "       [0.68943534, 0.31056466],\n",
       "       [0.47926904, 0.52073096],\n",
       "       [0.83670879, 0.16329121],\n",
       "       [0.78999775, 0.21000225],\n",
       "       [0.7047045 , 0.2952955 ],\n",
       "       [0.83574241, 0.16425759],\n",
       "       [0.83025175, 0.16974825],\n",
       "       [0.56893188, 0.43106812],\n",
       "       [0.84985654, 0.15014346],\n",
       "       [0.77395151, 0.22604849],\n",
       "       [0.90676545, 0.09323455],\n",
       "       [0.7787319 , 0.2212681 ],\n",
       "       [0.68414442, 0.31585558],\n",
       "       [0.77666739, 0.22333261],\n",
       "       [0.72131692, 0.27868308],\n",
       "       [0.54245497, 0.45754503],\n",
       "       [0.81406035, 0.18593965],\n",
       "       [0.52157222, 0.47842778],\n",
       "       [0.73727144, 0.26272856],\n",
       "       [0.47840111, 0.52159889],\n",
       "       [0.88380047, 0.11619953],\n",
       "       [0.89172479, 0.10827521],\n",
       "       [0.38354502, 0.61645498],\n",
       "       [0.73814911, 0.26185089],\n",
       "       [0.78056001, 0.21943999],\n",
       "       [0.63239947, 0.36760053],\n",
       "       [0.53121787, 0.46878213],\n",
       "       [0.54814705, 0.45185295],\n",
       "       [0.52312722, 0.47687278],\n",
       "       [0.76739279, 0.23260721],\n",
       "       [0.80332797, 0.19667203],\n",
       "       [0.79036892, 0.20963108],\n",
       "       [0.67214005, 0.32785995],\n",
       "       [0.48671992, 0.51328008],\n",
       "       [0.76484354, 0.23515646],\n",
       "       [0.8155299 , 0.1844701 ],\n",
       "       [0.67160484, 0.32839516],\n",
       "       [0.82541353, 0.17458647],\n",
       "       [0.68755774, 0.31244226],\n",
       "       [0.85531287, 0.14468713],\n",
       "       [0.56196058, 0.43803942],\n",
       "       [0.85455398, 0.14544602],\n",
       "       [0.77256622, 0.22743378],\n",
       "       [0.74017055, 0.25982945],\n",
       "       [0.84707244, 0.15292756],\n",
       "       [0.71965029, 0.28034971],\n",
       "       [0.63627897, 0.36372103],\n",
       "       [0.8486821 , 0.1513179 ],\n",
       "       [0.4956892 , 0.5043108 ],\n",
       "       [0.58358899, 0.41641101],\n",
       "       [0.52703884, 0.47296116],\n",
       "       [0.80328002, 0.19671998],\n",
       "       [0.77292201, 0.22707799],\n",
       "       [0.70175886, 0.29824114],\n",
       "       [0.42400746, 0.57599254],\n",
       "       [0.80819026, 0.19180974],\n",
       "       [0.69313651, 0.30686349],\n",
       "       [0.89661622, 0.10338378],\n",
       "       [0.65098842, 0.34901158],\n",
       "       [0.81565175, 0.18434825],\n",
       "       [0.61950808, 0.38049192],\n",
       "       [0.71250051, 0.28749949],\n",
       "       [0.73726468, 0.26273532],\n",
       "       [0.71850564, 0.28149436],\n",
       "       [0.82503922, 0.17496078],\n",
       "       [0.73086073, 0.26913927],\n",
       "       [0.79658028, 0.20341972],\n",
       "       [0.68822995, 0.31177005],\n",
       "       [0.79657285, 0.20342715],\n",
       "       [0.64092767, 0.35907233],\n",
       "       [0.59180605, 0.40819395],\n",
       "       [0.52464209, 0.47535791],\n",
       "       [0.84599247, 0.15400753],\n",
       "       [0.52275865, 0.47724135],\n",
       "       [0.54657704, 0.45342296],\n",
       "       [0.71247344, 0.28752656],\n",
       "       [0.77436313, 0.22563687],\n",
       "       [0.70850185, 0.29149815],\n",
       "       [0.87238837, 0.12761163],\n",
       "       [0.5295663 , 0.4704337 ],\n",
       "       [0.83494035, 0.16505965],\n",
       "       [0.81620117, 0.18379883],\n",
       "       [0.73823045, 0.26176955],\n",
       "       [0.84690546, 0.15309454],\n",
       "       [0.47586463, 0.52413537],\n",
       "       [0.78822224, 0.21177776],\n",
       "       [0.87548492, 0.12451508],\n",
       "       [0.65573165, 0.34426835],\n",
       "       [0.77089876, 0.22910124],\n",
       "       [0.64617429, 0.35382571],\n",
       "       [0.6907823 , 0.3092177 ],\n",
       "       [0.69681897, 0.30318103],\n",
       "       [0.45951092, 0.54048908],\n",
       "       [0.62067857, 0.37932143],\n",
       "       [0.74160583, 0.25839417],\n",
       "       [0.53013499, 0.46986501],\n",
       "       [0.28850165, 0.71149835],\n",
       "       [0.49512568, 0.50487432],\n",
       "       [0.72593514, 0.27406486],\n",
       "       [0.80394446, 0.19605554],\n",
       "       [0.65956213, 0.34043787],\n",
       "       [0.48001116, 0.51998884],\n",
       "       [0.69646787, 0.30353213],\n",
       "       [0.81443981, 0.18556019],\n",
       "       [0.4580436 , 0.5419564 ],\n",
       "       [0.69271673, 0.30728327],\n",
       "       [0.75114546, 0.24885454],\n",
       "       [0.56717161, 0.43282839],\n",
       "       [0.7252306 , 0.2747694 ],\n",
       "       [0.59836389, 0.40163611],\n",
       "       [0.78848626, 0.21151374],\n",
       "       [0.69708225, 0.30291775],\n",
       "       [0.50678377, 0.49321623],\n",
       "       [0.82565035, 0.17434965],\n",
       "       [0.79616745, 0.20383255],\n",
       "       [0.55807373, 0.44192627],\n",
       "       [0.80805658, 0.19194342],\n",
       "       [0.74371419, 0.25628581],\n",
       "       [0.74945198, 0.25054802],\n",
       "       [0.73397128, 0.26602872],\n",
       "       [0.77815725, 0.22184275],\n",
       "       [0.90242618, 0.09757382],\n",
       "       [0.38981756, 0.61018244],\n",
       "       [0.7513245 , 0.2486755 ],\n",
       "       [0.7519866 , 0.2480134 ],\n",
       "       [0.79901699, 0.20098301],\n",
       "       [0.84877662, 0.15122338],\n",
       "       [0.49459397, 0.50540603],\n",
       "       [0.82638406, 0.17361594],\n",
       "       [0.4522431 , 0.5477569 ],\n",
       "       [0.77862228, 0.22137772],\n",
       "       [0.51452033, 0.48547967],\n",
       "       [0.85666661, 0.14333339],\n",
       "       [0.59774733, 0.40225267],\n",
       "       [0.66366638, 0.33633362],\n",
       "       [0.79063591, 0.20936409],\n",
       "       [0.34793486, 0.65206514],\n",
       "       [0.66749101, 0.33250899],\n",
       "       [0.57026695, 0.42973305],\n",
       "       [0.43376394, 0.56623606],\n",
       "       [0.47592774, 0.52407226],\n",
       "       [0.65214083, 0.34785917],\n",
       "       [0.82552994, 0.17447006],\n",
       "       [0.61757605, 0.38242395],\n",
       "       [0.56300855, 0.43699145],\n",
       "       [0.81953379, 0.18046621],\n",
       "       [0.72932443, 0.27067557]])"
      ]
     },
     "execution_count": 24,
     "metadata": {},
     "output_type": "execute_result"
    }
   ],
   "source": [
    "yhat_prob = LR.predict_proba(X_test)\n",
    "yhat_prob"
   ]
  },
  {
   "cell_type": "markdown",
   "metadata": {},
   "source": [
    "### confusion matrix\n",
    "Another way of looking at accuracy of classifier is to look at __confusion matrix__."
   ]
  },
  {
   "cell_type": "code",
   "execution_count": 25,
   "metadata": {},
   "outputs": [
    {
     "name": "stdout",
     "output_type": "stream",
     "text": [
      "[[ 14  16]\n",
      " [  6 144]]\n"
     ]
    }
   ],
   "source": [
    "from sklearn.metrics import classification_report, confusion_matrix\n",
    "import itertools\n",
    "def plot_confusion_matrix(cm, classes,\n",
    "                          normalize=False,\n",
    "                          title='Confusion matrix',\n",
    "                          cmap=plt.cm.Blues):\n",
    "    \"\"\"\n",
    "    This function prints and plots the confusion matrix.\n",
    "    Normalization can be applied by setting `normalize=True`.\n",
    "    \"\"\"\n",
    "    if normalize:\n",
    "        cm = cm.astype('float') / cm.sum(axis=1)[:, np.newaxis]\n",
    "        print(\"Normalized confusion matrix\")\n",
    "    else:\n",
    "        print('Confusion matrix, without normalization')\n",
    "\n",
    "    print(cm)\n",
    "\n",
    "    plt.imshow(cm, interpolation='nearest', cmap=cmap)\n",
    "    plt.title(title)\n",
    "    plt.colorbar()\n",
    "    tick_marks = np.arange(len(classes))\n",
    "    plt.xticks(tick_marks, classes, rotation=45)\n",
    "    plt.yticks(tick_marks, classes)\n",
    "\n",
    "    fmt = '.2f' if normalize else 'd'\n",
    "    thresh = cm.max() / 2.\n",
    "    for i, j in itertools.product(range(cm.shape[0]), range(cm.shape[1])):\n",
    "        plt.text(j, i, format(cm[i, j], fmt),\n",
    "                 horizontalalignment=\"center\",\n",
    "                 color=\"white\" if cm[i, j] > thresh else \"black\")\n",
    "\n",
    "    plt.tight_layout()\n",
    "    plt.ylabel('True label')\n",
    "    plt.xlabel('Predicted label')\n",
    "print(confusion_matrix(y_test, yhat, labels=[1,0]))"
   ]
  },
  {
   "cell_type": "code",
   "execution_count": 26,
   "metadata": {},
   "outputs": [
    {
     "name": "stdout",
     "output_type": "stream",
     "text": [
      "Confusion matrix, without normalization\n",
      "[[ 14  16]\n",
      " [  6 144]]\n"
     ]
    },
    {
     "data": {
      "image/png": "[encoded data removed]",
      "text/plain": [
       "<Figure size 432x288 with 2 Axes>"
      ]
     },
     "metadata": {
      "needs_background": "light"
     },
     "output_type": "display_data"
    }
   ],
   "source": [
    "# Compute confusion matrix\n",
    "cnf_matrix = confusion_matrix(y_test, yhat, labels=[1,0])\n",
    "np.set_printoptions(precision=2)\n",
    "\n",
    "\n",
    "# Plot non-normalized confusion matrix\n",
    "plt.figure()\n",
    "plot_confusion_matrix(cnf_matrix, classes=['churn=1','churn=0'],normalize= False,  title='Confusion matrix')"
   ]
  },
  {
   "cell_type": "code",
   "execution_count": 27,
   "metadata": {
    "scrolled": true
   },
   "outputs": [
    {
     "name": "stdout",
     "output_type": "stream",
     "text": [
      "              precision    recall  f1-score   support\n",
      "\n",
      "           0       0.90      0.96      0.93       150\n",
      "           1       0.70      0.47      0.56        30\n",
      "\n",
      "    accuracy                           0.88       180\n",
      "   macro avg       0.80      0.71      0.74       180\n",
      "weighted avg       0.87      0.88      0.87       180\n",
      "\n"
     ]
    }
   ],
   "source": [
    "print (classification_report(y_test, yhat))\n"
   ]
  },
  {
   "cell_type": "markdown",
   "metadata": {},
   "source": [
    "The average accuracy for this classifier is the average of the F1-score for both labels, which is 0.87 in our case."
   ]
  },
  {
   "cell_type": "markdown",
   "metadata": {},
   "source": [
    "Based on the count of each section, we can calculate precision and recall of each label:\n",
    "\n",
    "\n",
    "- __Precision__ is a measure of the accuracy provided that a class label has been predicted. It is defined by: precision = TP / (TP + FP)\n",
    "\n",
    "- __Recall__ is true positive rate. It is defined as: Recall =  TP / (TP + FN)\n",
    "\n",
    "    \n",
    "we can calculate precision and recall of each class.\n",
    "\n",
    "__F1 score:__\n",
    "Now we are in the position to calculate the F1 scores for each label based on the precision and recall of that label. \n",
    "\n",
    "The F1 score is the harmonic average of the precision and recall, where an F1 score reaches its best value at 1 (perfect precision and recall) and worst at 0. It is a good way to show that a classifer has a good value for both recall and precision.\n",
    "\n"
   ]
  },
  {
   "cell_type": "markdown",
   "metadata": {},
   "source": [
    "<a id=\"ref2\"></a>\n",
    "### Logistic Regression with Pyspark"
   ]
  },
  {
   "cell_type": "code",
   "execution_count": 30,
   "metadata": {},
   "outputs": [],
   "source": [
    "import findspark"
   ]
  },
  {
   "cell_type": "code",
   "execution_count": 31,
   "metadata": {},
   "outputs": [],
   "source": [
    "findspark.init()"
   ]
  },
  {
   "cell_type": "code",
   "execution_count": 32,
   "metadata": {},
   "outputs": [],
   "source": [
    "from pyspark.sql import SparkSession"
   ]
  },
  {
   "cell_type": "code",
   "execution_count": 33,
   "metadata": {},
   "outputs": [],
   "source": [
    "spark = SparkSession.builder.appName('logregconsult').getOrCreate()"
   ]
  },
  {
   "cell_type": "code",
   "execution_count": 36,
   "metadata": {},
   "outputs": [],
   "source": [
    "data = spark.read.csv('customer_churn.csv',inferSchema=True,\n",
    "                     header=True)"
   ]
  },
  {
   "cell_type": "code",
   "execution_count": 37,
   "metadata": {},
   "outputs": [
    {
     "name": "stdout",
     "output_type": "stream",
     "text": [
      "root\n",
      " |-- Names: string (nullable = true)\n",
      " |-- Age: double (nullable = true)\n",
      " |-- Total_Purchase: double (nullable = true)\n",
      " |-- Account_Manager: integer (nullable = true)\n",
      " |-- Years: double (nullable = true)\n",
      " |-- Num_Sites: double (nullable = true)\n",
      " |-- Onboard_date: string (nullable = true)\n",
      " |-- Location: string (nullable = true)\n",
      " |-- Company: string (nullable = true)\n",
      " |-- Churn: integer (nullable = true)\n",
      "\n"
     ]
    }
   ],
   "source": [
    "data.printSchema()"
   ]
  },
  {
   "cell_type": "markdown",
   "metadata": {},
   "source": [
    "### Check out the data"
   ]
  },
  {
   "cell_type": "code",
   "execution_count": 38,
   "metadata": {},
   "outputs": [
    {
     "name": "stdout",
     "output_type": "stream",
     "text": [
      "+-------+-----+---+--------------+---------------+-----+---------+------------+--------+-------+-----+\n",
      "|summary|Names|Age|Total_Purchase|Account_Manager|Years|Num_Sites|Onboard_date|Location|Company|Churn|\n",
      "+-------+-----+---+--------------+---------------+-----+---------+------------+--------+-------+-----+\n",
      "|  count|  900|900|           900|            900|  900|      900|         900|     900|    900|  900|\n",
      "+-------+-----+---+--------------+---------------+-----+---------+------------+--------+-------+-----+\n",
      "only showing top 1 row\n",
      "\n"
     ]
    }
   ],
   "source": [
    "data.describe().show(1)"
   ]
  },
  {
   "cell_type": "code",
   "execution_count": null,
   "metadata": {},
   "outputs": [],
   "source": []
  },
  {
   "cell_type": "markdown",
   "metadata": {},
   "source": [
    "### Format for MLlib\n",
    "\n",
    "We'll ues the numerical columns. We'll include Account Manager because its easy enough, but keep in mind it probably won't be any sort of a signal because the agency mentioned its randomly assigned!"
   ]
  },
  {
   "cell_type": "code",
   "execution_count": 40,
   "metadata": {},
   "outputs": [],
   "source": [
    "from pyspark.ml.feature import VectorAssembler"
   ]
  },
  {
   "cell_type": "code",
   "execution_count": 41,
   "metadata": {},
   "outputs": [],
   "source": [
    "assembler = VectorAssembler(inputCols=['Age',\n",
    " 'Total_Purchase',\n",
    " 'Account_Manager',\n",
    " 'Years',\n",
    " 'Num_Sites'],outputCol='features')"
   ]
  },
  {
   "cell_type": "code",
   "execution_count": 42,
   "metadata": {},
   "outputs": [],
   "source": [
    "output = assembler.transform(data)"
   ]
  },
  {
   "cell_type": "code",
   "execution_count": 43,
   "metadata": {},
   "outputs": [],
   "source": [
    "final_data = output.select('features','churn')"
   ]
  },
  {
   "cell_type": "markdown",
   "metadata": {},
   "source": [
    "### Test Train Split"
   ]
  },
  {
   "cell_type": "code",
   "execution_count": 44,
   "metadata": {},
   "outputs": [],
   "source": [
    "train_churn,test_churn = final_data.randomSplit([0.7,0.3])"
   ]
  },
  {
   "cell_type": "markdown",
   "metadata": {},
   "source": [
    "### Fit the model"
   ]
  },
  {
   "cell_type": "code",
   "execution_count": 45,
   "metadata": {},
   "outputs": [],
   "source": [
    "from pyspark.ml.classification import LogisticRegression"
   ]
  },
  {
   "cell_type": "code",
   "execution_count": 46,
   "metadata": {},
   "outputs": [],
   "source": [
    "lr_churn = LogisticRegression(labelCol='churn')"
   ]
  },
  {
   "cell_type": "code",
   "execution_count": 47,
   "metadata": {},
   "outputs": [],
   "source": [
    "fitted_churn_model = lr_churn.fit(train_churn)"
   ]
  },
  {
   "cell_type": "code",
   "execution_count": 48,
   "metadata": {},
   "outputs": [],
   "source": [
    "training_sum = fitted_churn_model.summary"
   ]
  },
  {
   "cell_type": "code",
   "execution_count": 49,
   "metadata": {},
   "outputs": [
    {
     "name": "stdout",
     "output_type": "stream",
     "text": [
      "+-------+-------------------+-------------------+\n",
      "|summary|              churn|         prediction|\n",
      "+-------+-------------------+-------------------+\n",
      "|  count|                613|                613|\n",
      "|   mean|0.17781402936378465|0.12887438825448613|\n",
      "| stddev|  0.382668372099746|   0.33533449140226|\n",
      "|    min|                0.0|                0.0|\n",
      "|    max|                1.0|                1.0|\n",
      "+-------+-------------------+-------------------+\n",
      "\n"
     ]
    }
   ],
   "source": [
    "training_sum.predictions.describe().show()"
   ]
  },
  {
   "cell_type": "markdown",
   "metadata": {},
   "source": [
    "### Evaluate results\n",
    "\n",
    "Let's evaluate the results on the data set we were given (using the test data)"
   ]
  },
  {
   "cell_type": "code",
   "execution_count": 50,
   "metadata": {},
   "outputs": [],
   "source": [
    "from pyspark.ml.evaluation import BinaryClassificationEvaluator"
   ]
  },
  {
   "cell_type": "code",
   "execution_count": 51,
   "metadata": {},
   "outputs": [],
   "source": [
    "pred_and_labels = fitted_churn_model.evaluate(test_churn)"
   ]
  },
  {
   "cell_type": "code",
   "execution_count": 52,
   "metadata": {},
   "outputs": [
    {
     "name": "stdout",
     "output_type": "stream",
     "text": [
      "+--------------------+-----+--------------------+--------------------+----------+\n",
      "|            features|churn|       rawPrediction|         probability|prediction|\n",
      "+--------------------+-----+--------------------+--------------------+----------+\n",
      "|[22.0,11254.38,1....|    0|[4.05430795643892...|[0.98294832241403...|       0.0|\n",
      "|[26.0,8939.61,0.0...|    0|[5.77405037803505...|[0.99690247758406...|       0.0|\n",
      "|[28.0,8670.98,0.0...|    0|[7.23826268284963...|[0.99928195691507...|       0.0|\n",
      "|[28.0,9090.43,1.0...|    0|[0.94821948475399...|[0.72075696108881...|       0.0|\n",
      "|[29.0,9617.59,0.0...|    0|[3.91324626692407...|[0.98041565826455...|       0.0|\n",
      "|[29.0,10203.18,1....|    0|[3.26598082266084...|[0.96324313418667...|       0.0|\n",
      "|[29.0,11274.46,1....|    0|[4.17445848712145...|[0.98484954751144...|       0.0|\n",
      "|[29.0,13255.05,1....|    0|[3.93587227636939...|[0.98084540599653...|       0.0|\n",
      "|[30.0,8403.78,1.0...|    0|[5.44208726208492...|[0.99568823673280...|       0.0|\n",
      "|[30.0,8677.28,1.0...|    0|[3.43610521361442...|[0.96881405579738...|       0.0|\n",
      "|[30.0,10183.98,1....|    0|[2.48028976858033...|[0.92274845618277...|       0.0|\n",
      "|[31.0,5304.6,0.0,...|    0|[2.67870443526006...|[0.93575828504198...|       0.0|\n",
      "|[31.0,5387.75,0.0...|    0|[1.70594375589089...|[0.84630943026440...|       0.0|\n",
      "|[31.0,10058.87,1....|    0|[3.92946303722257...|[0.98072461932954...|       0.0|\n",
      "|[31.0,10182.6,1.0...|    0|[4.50159146584151...|[0.98903033715124...|       0.0|\n",
      "|[31.0,11297.57,1....|    1|[0.60412216064385...|[0.64659882437760...|       0.0|\n",
      "|[31.0,12264.68,1....|    0|[3.22109124776813...|[0.96162030913584...|       0.0|\n",
      "|[32.0,5756.12,0.0...|    0|[3.45850939238844...|[0.96948389815194...|       0.0|\n",
      "|[32.0,6367.22,1.0...|    0|[2.58844173988655...|[0.93011399503796...|       0.0|\n",
      "|[32.0,7896.65,0.0...|    0|[2.74301964391580...|[0.93951791284489...|       0.0|\n",
      "+--------------------+-----+--------------------+--------------------+----------+\n",
      "only showing top 20 rows\n",
      "\n"
     ]
    }
   ],
   "source": [
    "pred_and_labels.predictions.show()"
   ]
  },
  {
   "cell_type": "markdown",
   "metadata": {},
   "source": [
    "### Using AUC"
   ]
  },
  {
   "cell_type": "code",
   "execution_count": 53,
   "metadata": {},
   "outputs": [],
   "source": [
    "churn_eval = BinaryClassificationEvaluator(rawPredictionCol='prediction',\n",
    "                                           labelCol='churn')"
   ]
  },
  {
   "cell_type": "code",
   "execution_count": 54,
   "metadata": {},
   "outputs": [],
   "source": [
    "auc = churn_eval.evaluate(pred_and_labels.predictions)"
   ]
  },
  {
   "cell_type": "code",
   "execution_count": 55,
   "metadata": {},
   "outputs": [
    {
     "data": {
      "text/plain": [
       "0.7926829268292683"
      ]
     },
     "execution_count": 55,
     "metadata": {},
     "output_type": "execute_result"
    }
   ],
   "source": [
    "auc"
   ]
  },
  {
   "cell_type": "markdown",
   "metadata": {},
   "source": [
    "### Predict on brand new unlabeled data\n"
   ]
  },
  {
   "cell_type": "code",
   "execution_count": 56,
   "metadata": {},
   "outputs": [],
   "source": [
    "final_lr_model = lr_churn.fit(final_data)"
   ]
  },
  {
   "cell_type": "code",
   "execution_count": 57,
   "metadata": {},
   "outputs": [],
   "source": [
    "new_customers = spark.read.csv('new_customers.csv',inferSchema=True,\n",
    "                              header=True)"
   ]
  },
  {
   "cell_type": "code",
   "execution_count": 58,
   "metadata": {},
   "outputs": [
    {
     "name": "stdout",
     "output_type": "stream",
     "text": [
      "root\n",
      " |-- Names: string (nullable = true)\n",
      " |-- Age: double (nullable = true)\n",
      " |-- Total_Purchase: double (nullable = true)\n",
      " |-- Account_Manager: integer (nullable = true)\n",
      " |-- Years: double (nullable = true)\n",
      " |-- Num_Sites: double (nullable = true)\n",
      " |-- Onboard_date: string (nullable = true)\n",
      " |-- Location: string (nullable = true)\n",
      " |-- Company: string (nullable = true)\n",
      "\n"
     ]
    }
   ],
   "source": [
    "new_customers.printSchema()"
   ]
  },
  {
   "cell_type": "code",
   "execution_count": 59,
   "metadata": {},
   "outputs": [],
   "source": [
    "test_new_customers = assembler.transform(new_customers)"
   ]
  },
  {
   "cell_type": "code",
   "execution_count": 60,
   "metadata": {},
   "outputs": [
    {
     "name": "stdout",
     "output_type": "stream",
     "text": [
      "root\n",
      " |-- Names: string (nullable = true)\n",
      " |-- Age: double (nullable = true)\n",
      " |-- Total_Purchase: double (nullable = true)\n",
      " |-- Account_Manager: integer (nullable = true)\n",
      " |-- Years: double (nullable = true)\n",
      " |-- Num_Sites: double (nullable = true)\n",
      " |-- Onboard_date: string (nullable = true)\n",
      " |-- Location: string (nullable = true)\n",
      " |-- Company: string (nullable = true)\n",
      " |-- features: vector (nullable = true)\n",
      "\n"
     ]
    }
   ],
   "source": [
    "test_new_customers.printSchema()"
   ]
  },
  {
   "cell_type": "code",
   "execution_count": 61,
   "metadata": {},
   "outputs": [],
   "source": [
    "final_results = final_lr_model.transform(test_new_customers)"
   ]
  },
  {
   "cell_type": "code",
   "execution_count": 62,
   "metadata": {},
   "outputs": [
    {
     "name": "stdout",
     "output_type": "stream",
     "text": [
      "+----------------+----------+\n",
      "|         Company|prediction|\n",
      "+----------------+----------+\n",
      "|        King Ltd|       0.0|\n",
      "|   Cannon-Benson|       1.0|\n",
      "|Barron-Robertson|       1.0|\n",
      "|   Sexton-Golden|       1.0|\n",
      "|        Wood LLC|       0.0|\n",
      "|   Parks-Robbins|       1.0|\n",
      "+----------------+----------+\n",
      "\n"
     ]
    }
   ],
   "source": [
    "final_results.select('Company','prediction').show()"
   ]
  },
  {
   "cell_type": "markdown",
   "metadata": {},
   "source": [
    "Now we know that we should assign Account Managers to Cannon-Benson,Barron-Robertson,Sexton-GOlden, and Parks-Robbins!"
   ]
  }
 ],
 "metadata": {
  "anaconda-cloud": {},
  "kernelspec": {
   "display_name": "Python (Pyspark)",
   "language": "python",
   "name": "pyspark"
  },
  "language_info": {
   "codemirror_mode": {
    "name": "ipython",
    "version": 3
   },
   "file_extension": ".py",
   "mimetype": "text/x-python",
   "name": "python",
   "nbconvert_exporter": "python",
   "pygments_lexer": "ipython3",
   "version": "3.7.0"
  }
 },
 "nbformat": 4,
 "nbformat_minor": 1
}
